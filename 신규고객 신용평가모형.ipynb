{
 "cells": [
  {
   "cell_type": "code",
   "execution_count": 26,
   "id": "2569c36a",
   "metadata": {},
   "outputs": [
    {
     "name": "stdout",
     "output_type": "stream",
     "text": [
      "주소지가 대구입니까? (대구면 1, 아니면 0): 1\n",
      "SNS 맞춤법 오류(백분율)를 입력하세요: 23\n",
      "이용약관 집중 여부(백분율)를 입력하세요: 32\n",
      "신규 대출자의 예측 연체기간:27개월\n"
     ]
    },
    {
     "data": {
      "text/plain": [
       "array([-21.36614812,   0.89197106,  -0.3311128 ])"
      ]
     },
     "execution_count": 26,
     "metadata": {},
     "output_type": "execute_result"
    }
   ],
   "source": [
    "import pandas as pd\n",
    "from sklearn.model_selection import train_test_split\n",
    "from sklearn.linear_model import LinearRegression\n",
    "import joblib  \n",
    "\n",
    "file_path = '예금자.xlsx'  \n",
    "data = pd.read_excel(file_path)\n",
    "\n",
    "# '대구여부' 열 추가 -> 대구 주민인지 아닌지 정수값으로 판단하기 \n",
    "data['대구여부'] = data['address'].apply(lambda x: 1 if '대구광역시' in x else 0)\n",
    "\n",
    "\n",
    "X = data[['대구여부', 'SNS_spelling_error', '이용약관 집중 여부']]\n",
    "y = data['연체기간(개월)']\n",
    "\n",
    "\n",
    "X_train, X_test, y_train, y_test = train_test_split(X, y, test_size=0.2, random_state=42)\n",
    "\n",
    "# 모델 생성 및 학습\n",
    "model = LinearRegression()\n",
    "model.fit(X_train, y_train)\n",
    "\n",
    "joblib.dump(model, '예금자_model.pkl')\n",
    "\n",
    "import pandas as pd\n",
    "from sklearn.linear_model import LinearRegression\n",
    "\n",
    "# 입력 받기\n",
    "대구거주여부 = int(input('주소지가 대구입니까? (대구면 1, 아니면 0): '))\n",
    "while 대구거주여부 !=1 or 0:\n",
    "         print(\"1 혹은 0을 입력해주세요\")\n",
    "         대구거주여부 = int(input('주소지가 대구입니까? (대구면 1, 아니면 0): '))\n",
    "\n",
    "SNS_spelling_error = float(input('SNS 맞춤법 오류(백분율)를 입력하세요: '))\n",
    "이용약관_집중_여부 = float(input('이용약관 집중 여부(백분율)를 입력하세요: '))\n",
    "\n",
    "# 입력값으로 데이터프레임 생성\n",
    "new_data = pd.DataFrame({\n",
    "    '대구여부': [대구거주여부],\n",
    "    'SNS_spelling_error': [SNS_spelling_error],\n",
    "    '이용약관 집중 여부': [이용약관_집중_여부]\n",
    "})\n",
    "\n",
    "# 모델 사용하여 예측\n",
    "new_prediction = model.predict(new_data)\n",
    "\n",
    "# 예측 결과값\n",
    "print(f\"신규 대출자의 예측 연체기간:{round(new_prediction[0])}개월\")\n",
    "model.coef_ # 변수들의 상관관계"
   ]
  },
  {
   "cell_type": "code",
   "execution_count": 27,
   "id": "5dca1dc9",
   "metadata": {},
   "outputs": [
    {
     "data": {
      "text/plain": [
       "0.8677501836424927"
      ]
     },
     "execution_count": 27,
     "metadata": {},
     "output_type": "execute_result"
    }
   ],
   "source": [
    "#모델 평가결과\n",
    "model.score(X_train,y_train)"
   ]
  },
  {
   "cell_type": "code",
   "execution_count": 29,
   "id": "f7b5eab1",
   "metadata": {},
   "outputs": [
    {
     "data": {
      "text/html": [
       "<div>\n",
       "<style scoped>\n",
       "    .dataframe tbody tr th:only-of-type {\n",
       "        vertical-align: middle;\n",
       "    }\n",
       "\n",
       "    .dataframe tbody tr th {\n",
       "        vertical-align: top;\n",
       "    }\n",
       "\n",
       "    .dataframe thead th {\n",
       "        text-align: right;\n",
       "    }\n",
       "</style>\n",
       "<table border=\"1\" class=\"dataframe\">\n",
       "  <thead>\n",
       "    <tr style=\"text-align: right;\">\n",
       "      <th></th>\n",
       "      <th>대구여부</th>\n",
       "      <th>SNS_spelling_error</th>\n",
       "      <th>이용약관 집중 여부</th>\n",
       "    </tr>\n",
       "  </thead>\n",
       "  <tbody>\n",
       "    <tr>\n",
       "      <th>0</th>\n",
       "      <td>1</td>\n",
       "      <td>23.0</td>\n",
       "      <td>32.0</td>\n",
       "    </tr>\n",
       "  </tbody>\n",
       "</table>\n",
       "</div>"
      ],
      "text/plain": [
       "   대구여부  SNS_spelling_error  이용약관 집중 여부\n",
       "0     1                23.0        32.0"
      ]
     },
     "execution_count": 29,
     "metadata": {},
     "output_type": "execute_result"
    }
   ],
   "source": [
    "new_data #입력한 데이터값"
   ]
  },
  {
   "cell_type": "code",
   "execution_count": null,
   "id": "c4011481",
   "metadata": {},
   "outputs": [],
   "source": []
  }
 ],
 "metadata": {
  "kernelspec": {
   "display_name": "Python 3",
   "language": "python",
   "name": "python3"
  },
  "language_info": {
   "codemirror_mode": {
    "name": "ipython",
    "version": 3
   },
   "file_extension": ".py",
   "mimetype": "text/x-python",
   "name": "python",
   "nbconvert_exporter": "python",
   "pygments_lexer": "ipython3",
   "version": "3.8.8"
  }
 },
 "nbformat": 4,
 "nbformat_minor": 5
}
